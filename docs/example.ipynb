{
 "cells": [
  {
   "cell_type": "markdown",
   "metadata": {},
   "source": [
    "# Example usage\n",
    "\n",
    "To use `bballhead_cp` in a project:"
   ]
  },
  {
   "cell_type": "code",
   "execution_count": null,
   "metadata": {},
   "outputs": [],
   "source": [
    "import bballhead_cp\n",
    "\n",
    "print(bballhead_cp.__version__)"
   ]
  },
  {
   "cell_type": "markdown",
   "metadata": {},
   "source": [
    "Optain an API Key from Basketball Head: https://rapidapi.com/kaylanhusband/api/basketball-head\n",
    "\n",
    "Add the key as an environmental variable: os.environ['BBHead_APIKey'] = 'api_key'"
   ]
  },
  {
   "cell_type": "markdown",
   "metadata": {},
   "source": [
    "All of the functions use this API Key format to make calls to the API, so it is important to set this up properly. "
   ]
  },
  {
   "cell_type": "markdown",
   "metadata": {},
   "source": [
    "## Functions ##"
   ]
  },
  {
   "cell_type": "code",
   "execution_count": null,
   "metadata": {},
   "outputs": [],
   "source": [
    "bballhead_cp.info(\"kevin\", \"durant\")\n",
    "\n",
    "bballhead_cp.salary(\"james\", \"harden\")\n",
    "\n",
    "bballhead_cp.stats(\"kevin\", \"durant\") #returns points per game\n",
    "bballhead_cp.statts(\"james\", \"harden\", \"assists\", \"100\") #returns assists per 100 possessions \n",
    "bballhead_cp.stats(\"giannis\", \"antetokounmpo\", \"totalRebounds\", \"36\") #returns total rebounds per 36 minutes\n",
    "    #note that the fourth parameter must be a string"
   ]
  }
 ],
 "metadata": {
  "kernelspec": {
   "display_name": "Python 3 (ipykernel)",
   "language": "python",
   "name": "python3"
  },
  "language_info": {
   "codemirror_mode": {
    "name": "ipython",
    "version": 3
   },
   "file_extension": ".py",
   "mimetype": "text/x-python",
   "name": "python",
   "nbconvert_exporter": "python",
   "pygments_lexer": "ipython3",
   "version": "3.11.5"
  }
 },
 "nbformat": 4,
 "nbformat_minor": 4
}
